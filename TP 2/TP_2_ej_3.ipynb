{
 "cells": [
  {
   "cell_type": "code",
   "execution_count": 1,
   "metadata": {},
   "outputs": [],
   "source": [
    "import pandas as pd\n",
    "import numpy as np\n",
    "import matplotlib.pyplot as plt"
   ]
  },
  {
   "cell_type": "code",
   "execution_count": 23,
   "metadata": {},
   "outputs": [],
   "source": [
    "def e_s(t):\n",
    "    e = 0.6108 * np.exp((17.27*t)/(t+237.3))\n",
    "    e = e*10\n",
    "    return e\n",
    "def delta(es, t):\n",
    "    delt = (4098*es) / (t+237.3)**2\n",
    "    return delt\n",
    "def gamma(P):\n",
    "    gamma = (1930*P) / (2257000*0.622)\n",
    "    return gamma\n",
    "def resistencia_aerodinamica(z, d, z0m, z0h, u):\n",
    "    resistencia = (np.log((z-d)/z0m)\n",
    "                   * np.log((z-d)/z0h)\n",
    "                   /(0.4**2 * u)\n",
    "                  )\n",
    "    return resistencia\n",
    "def Epm(delta, Rn, es, e, rs, ra, u, gamma):\n",
    "    Elv = ((delta*(0.9*Rn) + 1.23*1004*((es-e)/ra))\n",
    "           / (delta + gamma*(1+(rs/ra)))\n",
    "          )\n",
    "    return Elv"
   ]
  },
  {
   "cell_type": "code",
   "execution_count": 24,
   "metadata": {},
   "outputs": [],
   "source": [
    "datos = pd.read_csv(\n",
    "    'C:\\\\Users\\\\nahue\\\\Desktop\\\\Agro 2\\\\Tp_2\\\\Ej_3.txt',\n",
    "    delimiter = ' ',\n",
    "    decimal = '.'\n",
    "    )"
   ]
  },
  {
   "cell_type": "code",
   "execution_count": 25,
   "metadata": {},
   "outputs": [
    {
     "data": {
      "text/html": [
       "<div>\n",
       "<style scoped>\n",
       "    .dataframe tbody tr th:only-of-type {\n",
       "        vertical-align: middle;\n",
       "    }\n",
       "\n",
       "    .dataframe tbody tr th {\n",
       "        vertical-align: top;\n",
       "    }\n",
       "\n",
       "    .dataframe thead th {\n",
       "        text-align: right;\n",
       "    }\n",
       "</style>\n",
       "<table border=\"1\" class=\"dataframe\">\n",
       "  <thead>\n",
       "    <tr style=\"text-align: right;\">\n",
       "      <th></th>\n",
       "      <th>Década</th>\n",
       "      <th>PP</th>\n",
       "      <th>ETP</th>\n",
       "    </tr>\n",
       "  </thead>\n",
       "  <tbody>\n",
       "    <tr>\n",
       "      <th>0</th>\n",
       "      <td>10/11</td>\n",
       "      <td>40</td>\n",
       "      <td>28.0</td>\n",
       "    </tr>\n",
       "    <tr>\n",
       "      <th>1</th>\n",
       "      <td>20/11</td>\n",
       "      <td>75</td>\n",
       "      <td>25.0</td>\n",
       "    </tr>\n",
       "    <tr>\n",
       "      <th>2</th>\n",
       "      <td>30/11</td>\n",
       "      <td>10</td>\n",
       "      <td>35.0</td>\n",
       "    </tr>\n",
       "    <tr>\n",
       "      <th>3</th>\n",
       "      <td>10/12</td>\n",
       "      <td>15</td>\n",
       "      <td>40.0</td>\n",
       "    </tr>\n",
       "    <tr>\n",
       "      <th>4</th>\n",
       "      <td>20/12</td>\n",
       "      <td>0</td>\n",
       "      <td>40.0</td>\n",
       "    </tr>\n",
       "    <tr>\n",
       "      <th>5</th>\n",
       "      <td>31/12</td>\n",
       "      <td>10</td>\n",
       "      <td>32.0</td>\n",
       "    </tr>\n",
       "    <tr>\n",
       "      <th>6</th>\n",
       "      <td>10/1</td>\n",
       "      <td>50</td>\n",
       "      <td>NaN</td>\n",
       "    </tr>\n",
       "  </tbody>\n",
       "</table>\n",
       "</div>"
      ],
      "text/plain": [
       "  Década  PP   ETP\n",
       "0  10/11  40  28.0\n",
       "1  20/11  75  25.0\n",
       "2  30/11  10  35.0\n",
       "3  10/12  15  40.0\n",
       "4  20/12   0  40.0\n",
       "5  31/12  10  32.0\n",
       "6   10/1  50   NaN"
      ]
     },
     "execution_count": 25,
     "metadata": {},
     "output_type": "execute_result"
    }
   ],
   "source": [
    "datos.head(10)"
   ]
  },
  {
   "cell_type": "code",
   "execution_count": 26,
   "metadata": {},
   "outputs": [],
   "source": [
    "kc = 1.25\n",
    "almacenaje_inicial = 260\n",
    "capacidad_campo = 300\n",
    "temperatura = 20\n",
    "presion_vapor = 17\n",
    "radiacion_neta = 10\n",
    "viento = 10/3.6\n",
    "rugosidad_movimiento = 1.5*10**-2\n",
    "rugosidad_humedad = 1.5*10**-3\n",
    "plano_cero = 8*10**-2\n",
    "resistencia_superficie = 70\n",
    "z = 2"
   ]
  },
  {
   "cell_type": "code",
   "execution_count": 27,
   "metadata": {},
   "outputs": [
    {
     "name": "stderr",
     "output_type": "stream",
     "text": [
      "C:\\Users\\nahue\\AppData\\Roaming\\Python\\Python37\\site-packages\\ipykernel_launcher.py:12: SettingWithCopyWarning: \n",
      "A value is trying to be set on a copy of a slice from a DataFrame\n",
      "\n",
      "See the caveats in the documentation: http://pandas.pydata.org/pandas-docs/stable/indexing.html#indexing-view-versus-copy\n",
      "  if sys.path[0] == '':\n"
     ]
    },
    {
     "data": {
      "text/html": [
       "<div>\n",
       "<style scoped>\n",
       "    .dataframe tbody tr th:only-of-type {\n",
       "        vertical-align: middle;\n",
       "    }\n",
       "\n",
       "    .dataframe tbody tr th {\n",
       "        vertical-align: top;\n",
       "    }\n",
       "\n",
       "    .dataframe thead th {\n",
       "        text-align: right;\n",
       "    }\n",
       "</style>\n",
       "<table border=\"1\" class=\"dataframe\">\n",
       "  <thead>\n",
       "    <tr style=\"text-align: right;\">\n",
       "      <th></th>\n",
       "      <th>Década</th>\n",
       "      <th>PP</th>\n",
       "      <th>ETP</th>\n",
       "    </tr>\n",
       "  </thead>\n",
       "  <tbody>\n",
       "    <tr>\n",
       "      <th>0</th>\n",
       "      <td>10/11</td>\n",
       "      <td>40</td>\n",
       "      <td>28.000000</td>\n",
       "    </tr>\n",
       "    <tr>\n",
       "      <th>1</th>\n",
       "      <td>20/11</td>\n",
       "      <td>75</td>\n",
       "      <td>25.000000</td>\n",
       "    </tr>\n",
       "    <tr>\n",
       "      <th>2</th>\n",
       "      <td>30/11</td>\n",
       "      <td>10</td>\n",
       "      <td>35.000000</td>\n",
       "    </tr>\n",
       "    <tr>\n",
       "      <th>3</th>\n",
       "      <td>10/12</td>\n",
       "      <td>15</td>\n",
       "      <td>40.000000</td>\n",
       "    </tr>\n",
       "    <tr>\n",
       "      <th>4</th>\n",
       "      <td>20/12</td>\n",
       "      <td>0</td>\n",
       "      <td>40.000000</td>\n",
       "    </tr>\n",
       "    <tr>\n",
       "      <th>5</th>\n",
       "      <td>31/12</td>\n",
       "      <td>10</td>\n",
       "      <td>32.000000</td>\n",
       "    </tr>\n",
       "    <tr>\n",
       "      <th>6</th>\n",
       "      <td>10/1</td>\n",
       "      <td>50</td>\n",
       "      <td>56.549059</td>\n",
       "    </tr>\n",
       "  </tbody>\n",
       "</table>\n",
       "</div>"
      ],
      "text/plain": [
       "  Década  PP        ETP\n",
       "0  10/11  40  28.000000\n",
       "1  20/11  75  25.000000\n",
       "2  30/11  10  35.000000\n",
       "3  10/12  15  40.000000\n",
       "4  20/12   0  40.000000\n",
       "5  31/12  10  32.000000\n",
       "6   10/1  50  56.549059"
      ]
     },
     "execution_count": 27,
     "metadata": {},
     "output_type": "execute_result"
    }
   ],
   "source": [
    "presion_saturacion = e_s(temperatura)\n",
    "delta_pm = delta(presion_saturacion, temperatura)\n",
    "gamma_pm = gamma(1013)\n",
    "resistencia_pm = resistencia_aerodinamica(z,\n",
    "                                         plano_cero,\n",
    "                                         rugosidad_movimiento,\n",
    "                                         rugosidad_humedad,\n",
    "                                         viento)\n",
    "datos['ETP'][6] = Epm(delta_pm, radiacion_neta, presion_saturacion/10,\n",
    "                      presion_vapor/10, resistencia_superficie, resistencia_pm,\n",
    "                      viento, gamma_pm\n",
    "                     ) * 10\n",
    "datos.head(10)"
   ]
  },
  {
   "cell_type": "code",
   "execution_count": 28,
   "metadata": {},
   "outputs": [
    {
     "data": {
      "text/plain": [
       "78.10742303651055"
      ]
     },
     "execution_count": 28,
     "metadata": {},
     "output_type": "execute_result"
    }
   ],
   "source": [
    "resistencia_pm"
   ]
  },
  {
   "cell_type": "code",
   "execution_count": 29,
   "metadata": {},
   "outputs": [
    {
     "data": {
      "text/plain": [
       "23.38281270927446"
      ]
     },
     "execution_count": 29,
     "metadata": {},
     "output_type": "execute_result"
    }
   ],
   "source": [
    "presion_saturacion"
   ]
  },
  {
   "cell_type": "code",
   "execution_count": 30,
   "metadata": {},
   "outputs": [
    {
     "data": {
      "text/plain": [
       "1.4474018811241363"
      ]
     },
     "execution_count": 30,
     "metadata": {},
     "output_type": "execute_result"
    }
   ],
   "source": [
    "delta_pm"
   ]
  },
  {
   "cell_type": "code",
   "execution_count": 31,
   "metadata": {},
   "outputs": [
    {
     "data": {
      "text/plain": [
       "1.3926590656863178"
      ]
     },
     "execution_count": 31,
     "metadata": {},
     "output_type": "execute_result"
    }
   ],
   "source": [
    "gamma_pm"
   ]
  },
  {
   "cell_type": "code",
   "execution_count": 32,
   "metadata": {},
   "outputs": [
    {
     "data": {
      "text/html": [
       "<div>\n",
       "<style scoped>\n",
       "    .dataframe tbody tr th:only-of-type {\n",
       "        vertical-align: middle;\n",
       "    }\n",
       "\n",
       "    .dataframe tbody tr th {\n",
       "        vertical-align: top;\n",
       "    }\n",
       "\n",
       "    .dataframe thead th {\n",
       "        text-align: right;\n",
       "    }\n",
       "</style>\n",
       "<table border=\"1\" class=\"dataframe\">\n",
       "  <thead>\n",
       "    <tr style=\"text-align: right;\">\n",
       "      <th></th>\n",
       "      <th>Década</th>\n",
       "      <th>PP</th>\n",
       "      <th>ETP</th>\n",
       "      <th>ETR</th>\n",
       "    </tr>\n",
       "  </thead>\n",
       "  <tbody>\n",
       "    <tr>\n",
       "      <th>0</th>\n",
       "      <td>10/11</td>\n",
       "      <td>40</td>\n",
       "      <td>28.000000</td>\n",
       "      <td>35.000000</td>\n",
       "    </tr>\n",
       "    <tr>\n",
       "      <th>1</th>\n",
       "      <td>20/11</td>\n",
       "      <td>75</td>\n",
       "      <td>25.000000</td>\n",
       "      <td>31.250000</td>\n",
       "    </tr>\n",
       "    <tr>\n",
       "      <th>2</th>\n",
       "      <td>30/11</td>\n",
       "      <td>10</td>\n",
       "      <td>35.000000</td>\n",
       "      <td>43.750000</td>\n",
       "    </tr>\n",
       "    <tr>\n",
       "      <th>3</th>\n",
       "      <td>10/12</td>\n",
       "      <td>15</td>\n",
       "      <td>40.000000</td>\n",
       "      <td>50.000000</td>\n",
       "    </tr>\n",
       "    <tr>\n",
       "      <th>4</th>\n",
       "      <td>20/12</td>\n",
       "      <td>0</td>\n",
       "      <td>40.000000</td>\n",
       "      <td>50.000000</td>\n",
       "    </tr>\n",
       "    <tr>\n",
       "      <th>5</th>\n",
       "      <td>31/12</td>\n",
       "      <td>10</td>\n",
       "      <td>32.000000</td>\n",
       "      <td>40.000000</td>\n",
       "    </tr>\n",
       "    <tr>\n",
       "      <th>6</th>\n",
       "      <td>10/1</td>\n",
       "      <td>50</td>\n",
       "      <td>56.549059</td>\n",
       "      <td>70.686323</td>\n",
       "    </tr>\n",
       "  </tbody>\n",
       "</table>\n",
       "</div>"
      ],
      "text/plain": [
       "  Década  PP        ETP        ETR\n",
       "0  10/11  40  28.000000  35.000000\n",
       "1  20/11  75  25.000000  31.250000\n",
       "2  30/11  10  35.000000  43.750000\n",
       "3  10/12  15  40.000000  50.000000\n",
       "4  20/12   0  40.000000  50.000000\n",
       "5  31/12  10  32.000000  40.000000\n",
       "6   10/1  50  56.549059  70.686323"
      ]
     },
     "execution_count": 32,
     "metadata": {},
     "output_type": "execute_result"
    }
   ],
   "source": [
    "datos['ETR'] = datos['ETP']*kc\n",
    "datos.head(10)"
   ]
  },
  {
   "cell_type": "markdown",
   "metadata": {},
   "source": [
    "    El punto de marchitez permanente (PMP) es el contenido de agua mínimo para que las plantas puedan extraer agua del suelo y evapotranspirarla. En este caso se observa que por debajo de d = 100mm en los primeros dos metros, el cultivo deja de evapotranspirar, por lo que estaría en el PMP. Equivale a un tita de 0.05. El agua útil es la diferencia entre la capacidad de campo (CC) y el PMP. Para este caso, el suelo tiene 200mm de agua útil en los primeros 2 metros que equivalen a un tita de 0.1."
   ]
  },
  {
   "cell_type": "code",
   "execution_count": 33,
   "metadata": {},
   "outputs": [
    {
     "name": "stderr",
     "output_type": "stream",
     "text": [
      "C:\\Users\\nahue\\AppData\\Roaming\\Python\\Python37\\site-packages\\ipykernel_launcher.py:2: SettingWithCopyWarning: \n",
      "A value is trying to be set on a copy of a slice from a DataFrame\n",
      "\n",
      "See the caveats in the documentation: http://pandas.pydata.org/pandas-docs/stable/indexing.html#indexing-view-versus-copy\n",
      "  \n",
      "C:\\Users\\nahue\\AppData\\Roaming\\Python\\Python37\\site-packages\\ipykernel_launcher.py:5: SettingWithCopyWarning: \n",
      "A value is trying to be set on a copy of a slice from a DataFrame\n",
      "\n",
      "See the caveats in the documentation: http://pandas.pydata.org/pandas-docs/stable/indexing.html#indexing-view-versus-copy\n",
      "  \"\"\"\n",
      "C:\\Users\\nahue\\AppData\\Roaming\\Python\\Python37\\site-packages\\ipykernel_launcher.py:7: SettingWithCopyWarning: \n",
      "A value is trying to be set on a copy of a slice from a DataFrame\n",
      "\n",
      "See the caveats in the documentation: http://pandas.pydata.org/pandas-docs/stable/indexing.html#indexing-view-versus-copy\n",
      "  import sys\n"
     ]
    },
    {
     "data": {
      "text/html": [
       "<div>\n",
       "<style scoped>\n",
       "    .dataframe tbody tr th:only-of-type {\n",
       "        vertical-align: middle;\n",
       "    }\n",
       "\n",
       "    .dataframe tbody tr th {\n",
       "        vertical-align: top;\n",
       "    }\n",
       "\n",
       "    .dataframe thead th {\n",
       "        text-align: right;\n",
       "    }\n",
       "</style>\n",
       "<table border=\"1\" class=\"dataframe\">\n",
       "  <thead>\n",
       "    <tr style=\"text-align: right;\">\n",
       "      <th></th>\n",
       "      <th>Década</th>\n",
       "      <th>PP</th>\n",
       "      <th>ETP</th>\n",
       "      <th>ETR</th>\n",
       "      <th>balance</th>\n",
       "    </tr>\n",
       "  </thead>\n",
       "  <tbody>\n",
       "    <tr>\n",
       "      <th>0</th>\n",
       "      <td>10/11</td>\n",
       "      <td>40</td>\n",
       "      <td>28.000000</td>\n",
       "      <td>35.000000</td>\n",
       "      <td>265</td>\n",
       "    </tr>\n",
       "    <tr>\n",
       "      <th>1</th>\n",
       "      <td>20/11</td>\n",
       "      <td>75</td>\n",
       "      <td>25.000000</td>\n",
       "      <td>31.250000</td>\n",
       "      <td>300</td>\n",
       "    </tr>\n",
       "    <tr>\n",
       "      <th>2</th>\n",
       "      <td>30/11</td>\n",
       "      <td>10</td>\n",
       "      <td>35.000000</td>\n",
       "      <td>43.750000</td>\n",
       "      <td>266</td>\n",
       "    </tr>\n",
       "    <tr>\n",
       "      <th>3</th>\n",
       "      <td>10/12</td>\n",
       "      <td>15</td>\n",
       "      <td>40.000000</td>\n",
       "      <td>50.000000</td>\n",
       "      <td>231</td>\n",
       "    </tr>\n",
       "    <tr>\n",
       "      <th>4</th>\n",
       "      <td>20/12</td>\n",
       "      <td>0</td>\n",
       "      <td>40.000000</td>\n",
       "      <td>50.000000</td>\n",
       "      <td>181</td>\n",
       "    </tr>\n",
       "    <tr>\n",
       "      <th>5</th>\n",
       "      <td>31/12</td>\n",
       "      <td>10</td>\n",
       "      <td>32.000000</td>\n",
       "      <td>40.000000</td>\n",
       "      <td>151</td>\n",
       "    </tr>\n",
       "    <tr>\n",
       "      <th>6</th>\n",
       "      <td>10/1</td>\n",
       "      <td>50</td>\n",
       "      <td>56.549059</td>\n",
       "      <td>70.686323</td>\n",
       "      <td>130</td>\n",
       "    </tr>\n",
       "  </tbody>\n",
       "</table>\n",
       "</div>"
      ],
      "text/plain": [
       "  Década  PP        ETP        ETR  balance\n",
       "0  10/11  40  28.000000  35.000000      265\n",
       "1  20/11  75  25.000000  31.250000      300\n",
       "2  30/11  10  35.000000  43.750000      266\n",
       "3  10/12  15  40.000000  50.000000      231\n",
       "4  20/12   0  40.000000  50.000000      181\n",
       "5  31/12  10  32.000000  40.000000      151\n",
       "6   10/1  50  56.549059  70.686323      130"
      ]
     },
     "execution_count": 33,
     "metadata": {},
     "output_type": "execute_result"
    }
   ],
   "source": [
    "datos['balance'] = list(range(7))\n",
    "datos['balance'][0] = 260 - datos['ETR'][0] + datos['PP'][0]\n",
    "iterador = list(range(1,7))\n",
    "for i in iterador:\n",
    "    datos['balance'][i] = datos['balance'][i-1] - datos['ETR'][i] + datos['PP'][i]\n",
    "    if datos['balance'][i] > capacidad_campo:\n",
    "        datos['balance'][i] = capacidad_campo\n",
    "datos.head(10)"
   ]
  },
  {
   "cell_type": "markdown",
   "metadata": {},
   "source": [
    "    En la segunda década hubo escorrentía.\n",
    "    Con un almacenaje menor a 180mm el cultivo entra en estrés hídrico, pues su evapotranspiración real es menor a la máxima. Se puede observaer en el balance calculado que durante las primeras 5 decadas el cultivo se encontró en condiciones óptimas, pero se estresó en las últimas dos."
   ]
  }
 ],
 "metadata": {
  "kernelspec": {
   "display_name": "Python 3",
   "language": "python",
   "name": "python3"
  },
  "language_info": {
   "codemirror_mode": {
    "name": "ipython",
    "version": 3
   },
   "file_extension": ".py",
   "mimetype": "text/x-python",
   "name": "python",
   "nbconvert_exporter": "python",
   "pygments_lexer": "ipython3",
   "version": "3.7.2"
  }
 },
 "nbformat": 4,
 "nbformat_minor": 2
}
