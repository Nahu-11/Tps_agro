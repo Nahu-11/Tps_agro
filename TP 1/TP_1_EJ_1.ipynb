{
 "cells": [
  {
   "cell_type": "code",
   "execution_count": 2,
   "metadata": {},
   "outputs": [],
   "source": [
    "import pandas as pd\n",
    "import numpy as np\n",
    "import matplotlib.pyplot as plt\n",
    "from scipy.optimize import curve_fit"
   ]
  },
  {
   "cell_type": "code",
   "execution_count": 20,
   "metadata": {},
   "outputs": [],
   "source": [
    "def modelo_lineal(x, m, b):\n",
    "    return x*m + b "
   ]
  },
  {
   "cell_type": "code",
   "execution_count": 3,
   "metadata": {},
   "outputs": [],
   "source": [
    "datos = pd.read_csv(\n",
    "    'C:\\\\Users\\\\nahue\\\\Desktop\\\\Agro 2\\\\tp_1_ej_1.txt',\n",
    "    delimiter = ' ',\n",
    "    decimal = '.'\n",
    "    )"
   ]
  },
  {
   "cell_type": "code",
   "execution_count": 6,
   "metadata": {},
   "outputs": [
    {
     "data": {
      "text/html": [
       "<div>\n",
       "<style scoped>\n",
       "    .dataframe tbody tr th:only-of-type {\n",
       "        vertical-align: middle;\n",
       "    }\n",
       "\n",
       "    .dataframe tbody tr th {\n",
       "        vertical-align: top;\n",
       "    }\n",
       "\n",
       "    .dataframe thead th {\n",
       "        text-align: right;\n",
       "    }\n",
       "</style>\n",
       "<table border=\"1\" class=\"dataframe\">\n",
       "  <thead>\n",
       "    <tr style=\"text-align: right;\">\n",
       "      <th></th>\n",
       "      <th>T</th>\n",
       "      <th>Tiempo</th>\n",
       "    </tr>\n",
       "  </thead>\n",
       "  <tbody>\n",
       "    <tr>\n",
       "      <th>0</th>\n",
       "      <td>12.5</td>\n",
       "      <td>152.0</td>\n",
       "    </tr>\n",
       "    <tr>\n",
       "      <th>1</th>\n",
       "      <td>16.0</td>\n",
       "      <td>105.0</td>\n",
       "    </tr>\n",
       "    <tr>\n",
       "      <th>2</th>\n",
       "      <td>18.0</td>\n",
       "      <td>68.0</td>\n",
       "    </tr>\n",
       "    <tr>\n",
       "      <th>3</th>\n",
       "      <td>19.5</td>\n",
       "      <td>53.0</td>\n",
       "    </tr>\n",
       "    <tr>\n",
       "      <th>4</th>\n",
       "      <td>21.0</td>\n",
       "      <td>48.0</td>\n",
       "    </tr>\n",
       "  </tbody>\n",
       "</table>\n",
       "</div>"
      ],
      "text/plain": [
       "      T  Tiempo\n",
       "0  12.5   152.0\n",
       "1  16.0   105.0\n",
       "2  18.0    68.0\n",
       "3  19.5    53.0\n",
       "4  21.0    48.0"
      ]
     },
     "execution_count": 6,
     "metadata": {},
     "output_type": "execute_result"
    }
   ],
   "source": [
    "datos.head()"
   ]
  },
  {
   "cell_type": "code",
   "execution_count": 8,
   "metadata": {},
   "outputs": [
    {
     "data": {
      "text/html": [
       "<div>\n",
       "<style scoped>\n",
       "    .dataframe tbody tr th:only-of-type {\n",
       "        vertical-align: middle;\n",
       "    }\n",
       "\n",
       "    .dataframe tbody tr th {\n",
       "        vertical-align: top;\n",
       "    }\n",
       "\n",
       "    .dataframe thead th {\n",
       "        text-align: right;\n",
       "    }\n",
       "</style>\n",
       "<table border=\"1\" class=\"dataframe\">\n",
       "  <thead>\n",
       "    <tr style=\"text-align: right;\">\n",
       "      <th></th>\n",
       "      <th>T</th>\n",
       "      <th>Tiempo</th>\n",
       "      <th>Tasa de desarrollo</th>\n",
       "    </tr>\n",
       "  </thead>\n",
       "  <tbody>\n",
       "    <tr>\n",
       "      <th>0</th>\n",
       "      <td>12.5</td>\n",
       "      <td>152.0</td>\n",
       "      <td>0.006579</td>\n",
       "    </tr>\n",
       "    <tr>\n",
       "      <th>1</th>\n",
       "      <td>16.0</td>\n",
       "      <td>105.0</td>\n",
       "      <td>0.009524</td>\n",
       "    </tr>\n",
       "    <tr>\n",
       "      <th>2</th>\n",
       "      <td>18.0</td>\n",
       "      <td>68.0</td>\n",
       "      <td>0.014706</td>\n",
       "    </tr>\n",
       "    <tr>\n",
       "      <th>3</th>\n",
       "      <td>19.5</td>\n",
       "      <td>53.0</td>\n",
       "      <td>0.018868</td>\n",
       "    </tr>\n",
       "    <tr>\n",
       "      <th>4</th>\n",
       "      <td>21.0</td>\n",
       "      <td>48.0</td>\n",
       "      <td>0.020833</td>\n",
       "    </tr>\n",
       "  </tbody>\n",
       "</table>\n",
       "</div>"
      ],
      "text/plain": [
       "      T  Tiempo  Tasa de desarrollo\n",
       "0  12.5   152.0            0.006579\n",
       "1  16.0   105.0            0.009524\n",
       "2  18.0    68.0            0.014706\n",
       "3  19.5    53.0            0.018868\n",
       "4  21.0    48.0            0.020833"
      ]
     },
     "execution_count": 8,
     "metadata": {},
     "output_type": "execute_result"
    }
   ],
   "source": [
    "datos['Tasa de desarrollo'] = 1/datos['Tiempo']\n",
    "datos.head()"
   ]
  },
  {
   "cell_type": "code",
   "execution_count": 19,
   "metadata": {},
   "outputs": [
    {
     "data": {
      "text/plain": [
       "Text(0, 0.5, 'Tasa de desarrollo')"
      ]
     },
     "execution_count": 19,
     "metadata": {},
     "output_type": "execute_result"
    },
    {
     "data": {
      "image/png": "[encoded data removed]",
      "text/plain": [
       "<Figure size 1296x648 with 2 Axes>"
      ]
     },
     "metadata": {
      "needs_background": "light"
     },
     "output_type": "display_data"
    }
   ],
   "source": [
    "grafico, sub_graficos = plt.subplots(\n",
    "    nrows = 2,\n",
    "    figsize = (18, 9)\n",
    "    )\n",
    "grafico.suptitle(\n",
    "    'Tiempo termico',\n",
    "    fontsize = 40,\n",
    "    fontweight='bold'\n",
    "    )\n",
    "plt.xlabel(\n",
    "    'Temperatura',\n",
    "    fontsize = 20\n",
    "    )\n",
    "sub_graficos[0].plot(\n",
    "    datos['T'],\n",
    "    datos['Tiempo']\n",
    "    )\n",
    "sub_graficos[0].set_ylabel(\n",
    "    'Dias',\n",
    "    fontsize = 20\n",
    "    )\n",
    "sub_graficos[1].plot(\n",
    "    datos['T'],\n",
    "    datos['Tasa de desarrollo']\n",
    "    )\n",
    "sub_graficos[1].set_ylabel(\n",
    "    'Tasa de desarrollo',\n",
    "    fontsize = 20\n",
    "    )"
   ]
  },
  {
   "cell_type": "markdown",
   "metadata": {},
   "source": [
    "    Se observa un aumento de la tasa de desarrollo con la temperatura hasta los 32°C. Luego comienza a decrecer. Esto es esperable, pues la velocidad de las reacciones químicas que ocurren dentro del Ostrinia nubilalis se incrementa con la temperatura hasta que las enzimas (que son proteínas) comienzan a desnaturalizarse.\n",
    "    En el rango [12-16]°C, el incremento en tasa de desarrollo por unidad de temperatura es menor que en el rango [16-32]°C. Por lo tanto, ajustaría un modelo lineal sólo entre estos valores de temperatura ([16-32]°C) para estimar la temperatura base. \n",
    "    La cantidad de días necesarios para que ocurra el ciclo de vida completo se comporta en forma inversa a la tasa de desarrollo, como era de esperar, pues así se calculan."
   ]
  },
  {
   "cell_type": "code",
   "execution_count": 31,
   "metadata": {},
   "outputs": [],
   "source": [
    "x_fit = datos['T'].iloc[1:-1]\n",
    "y_fit = datos['Tasa de desarrollo'].iloc[1:-1]\n",
    "ajuste, covarianzas = curve_fit(\n",
    "    modelo_lineal,\n",
    "    x_fit,\n",
    "    y_fit\n",
    "    )\n",
    "recta_regresion = modelo_lineal(\n",
    "    x_fit,\n",
    "    *ajuste\n",
    "    )"
   ]
  },
  {
   "cell_type": "code",
   "execution_count": 34,
   "metadata": {},
   "outputs": [
    {
     "data": {
      "text/plain": [
       "Text(0, 0.5, 'Tasa de desarrollo')"
      ]
     },
     "execution_count": 34,
     "metadata": {},
     "output_type": "execute_result"
    },
    {
     "data": {
      "image/png": "[encoded data removed]",
      "text/plain": [
       "<Figure size 1296x648 with 1 Axes>"
      ]
     },
     "metadata": {
      "needs_background": "light"
     },
     "output_type": "display_data"
    }
   ],
   "source": [
    "plt.figure(\n",
    "    figsize = (18, 9),\n",
    "    )\n",
    "plt.plot(\n",
    "    x_fit,\n",
    "    y_fit,\n",
    "    'bo'\n",
    "    )\n",
    "plt.plot(\n",
    "    x_fit,\n",
    "    recta_regresion,\n",
    "    'r-'\n",
    "    )\n",
    "plt.title(\n",
    "    'Tiempo termico',\n",
    "    fontsize = 40,\n",
    "    fontweight='bold'\n",
    "    )\n",
    "plt.xlabel(\n",
    "    'Temperatura',\n",
    "    fontsize = 20\n",
    "    )\n",
    "plt.ylabel(\n",
    "    'Tasa de desarrollo',\n",
    "    fontsize = 20\n",
    "    )"
   ]
  },
  {
   "cell_type": "code",
   "execution_count": 39,
   "metadata": {},
   "outputs": [
    {
     "name": "stdout",
     "output_type": "stream",
     "text": [
      "Pendiente 0.0022684307541609747\n",
      "Ordenada -0.02625111973893585\n"
     ]
    }
   ],
   "source": [
    "print('Pendiente ' + str(ajuste[0]))\n",
    "print('Ordenada ' + str(ajuste[1]))"
   ]
  },
  {
   "cell_type": "code",
   "execution_count": 40,
   "metadata": {},
   "outputs": [
    {
     "name": "stdout",
     "output_type": "stream",
     "text": [
      "Temperatura base 11.572369882035638\n"
     ]
    }
   ],
   "source": [
    "temperatura_base = -ajuste[1]/ajuste[0]\n",
    "print('Temperatura base ' + str(temperatura_base))"
   ]
  },
  {
   "cell_type": "markdown",
   "metadata": {},
   "source": [
    "    En el modelo de unidades de calor utilizaría la temperatura óptima como tope. Para temperaturas mayores la tasa de crecimiento sería constante con este modelo.\n",
    "    Consultar!"
   ]
  },
  {
   "cell_type": "code",
   "execution_count": 4,
   "metadata": {},
   "outputs": [
    {
     "data": {
      "text/html": [
       "<div>\n",
       "<style scoped>\n",
       "    .dataframe tbody tr th:only-of-type {\n",
       "        vertical-align: middle;\n",
       "    }\n",
       "\n",
       "    .dataframe tbody tr th {\n",
       "        vertical-align: top;\n",
       "    }\n",
       "\n",
       "    .dataframe thead th {\n",
       "        text-align: right;\n",
       "    }\n",
       "</style>\n",
       "<table border=\"1\" class=\"dataframe\">\n",
       "  <thead>\n",
       "    <tr style=\"text-align: right;\">\n",
       "      <th></th>\n",
       "      <th>T</th>\n",
       "      <th>Tiempo</th>\n",
       "      <th>Grados dia</th>\n",
       "    </tr>\n",
       "  </thead>\n",
       "  <tbody>\n",
       "    <tr>\n",
       "      <th>0</th>\n",
       "      <td>12.5</td>\n",
       "      <td>152.0</td>\n",
       "      <td>141.360</td>\n",
       "    </tr>\n",
       "    <tr>\n",
       "      <th>1</th>\n",
       "      <td>16.0</td>\n",
       "      <td>105.0</td>\n",
       "      <td>465.150</td>\n",
       "    </tr>\n",
       "    <tr>\n",
       "      <th>2</th>\n",
       "      <td>18.0</td>\n",
       "      <td>68.0</td>\n",
       "      <td>437.240</td>\n",
       "    </tr>\n",
       "    <tr>\n",
       "      <th>3</th>\n",
       "      <td>19.5</td>\n",
       "      <td>53.0</td>\n",
       "      <td>420.290</td>\n",
       "    </tr>\n",
       "    <tr>\n",
       "      <th>4</th>\n",
       "      <td>21.0</td>\n",
       "      <td>48.0</td>\n",
       "      <td>452.640</td>\n",
       "    </tr>\n",
       "    <tr>\n",
       "      <th>5</th>\n",
       "      <td>24.0</td>\n",
       "      <td>37.0</td>\n",
       "      <td>459.910</td>\n",
       "    </tr>\n",
       "    <tr>\n",
       "      <th>6</th>\n",
       "      <td>26.0</td>\n",
       "      <td>29.0</td>\n",
       "      <td>418.470</td>\n",
       "    </tr>\n",
       "    <tr>\n",
       "      <th>7</th>\n",
       "      <td>29.5</td>\n",
       "      <td>24.5</td>\n",
       "      <td>439.285</td>\n",
       "    </tr>\n",
       "    <tr>\n",
       "      <th>8</th>\n",
       "      <td>32.0</td>\n",
       "      <td>21.9</td>\n",
       "      <td>447.417</td>\n",
       "    </tr>\n",
       "    <tr>\n",
       "      <th>9</th>\n",
       "      <td>35.0</td>\n",
       "      <td>25.5</td>\n",
       "      <td>597.465</td>\n",
       "    </tr>\n",
       "  </tbody>\n",
       "</table>\n",
       "</div>"
      ],
      "text/plain": [
       "      T  Tiempo  Grados dia\n",
       "0  12.5   152.0     141.360\n",
       "1  16.0   105.0     465.150\n",
       "2  18.0    68.0     437.240\n",
       "3  19.5    53.0     420.290\n",
       "4  21.0    48.0     452.640\n",
       "5  24.0    37.0     459.910\n",
       "6  26.0    29.0     418.470\n",
       "7  29.5    24.5     439.285\n",
       "8  32.0    21.9     447.417\n",
       "9  35.0    25.5     597.465"
      ]
     },
     "execution_count": 4,
     "metadata": {},
     "output_type": "execute_result"
    }
   ],
   "source": [
    "datos['Grados dia'] = (datos['T'] - 11.57)*datos['Tiempo']\n",
    "datos.head(30)"
   ]
  },
  {
   "cell_type": "markdown",
   "metadata": {},
   "source": [
    "    Por qué es diferente en cada caso??"
   ]
  }
 ],
 "metadata": {
  "kernelspec": {
   "display_name": "Python 3",
   "language": "python",
   "name": "python3"
  },
  "language_info": {
   "codemirror_mode": {
    "name": "ipython",
    "version": 3
   },
   "file_extension": ".py",
   "mimetype": "text/x-python",
   "name": "python",
   "nbconvert_exporter": "python",
   "pygments_lexer": "ipython3",
   "version": "3.7.2"
  }
 },
 "nbformat": 4,
 "nbformat_minor": 2
}
