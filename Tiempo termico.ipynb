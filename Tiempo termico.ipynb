{
 "cells": [
  {
   "cell_type": "code",
   "execution_count": 23,
   "metadata": {},
   "outputs": [
    {
     "data": {
      "text/html": [
       "<div>\n",
       "<style scoped>\n",
       "    .dataframe tbody tr th:only-of-type {\n",
       "        vertical-align: middle;\n",
       "    }\n",
       "\n",
       "    .dataframe tbody tr th {\n",
       "        vertical-align: top;\n",
       "    }\n",
       "\n",
       "    .dataframe thead th {\n",
       "        text-align: right;\n",
       "    }\n",
       "</style>\n",
       "<table border=\"1\" class=\"dataframe\">\n",
       "  <thead>\n",
       "    <tr style=\"text-align: right;\">\n",
       "      <th></th>\n",
       "      <th>10</th>\n",
       "      <th>17.5</th>\n",
       "      <th>25</th>\n",
       "      <th>32</th>\n",
       "    </tr>\n",
       "    <tr>\n",
       "      <th>Especie</th>\n",
       "      <th></th>\n",
       "      <th></th>\n",
       "      <th></th>\n",
       "      <th></th>\n",
       "    </tr>\n",
       "  </thead>\n",
       "  <tbody>\n",
       "    <tr>\n",
       "      <th>Trigo</th>\n",
       "      <td>110.0</td>\n",
       "      <td>70</td>\n",
       "      <td>52</td>\n",
       "      <td>47</td>\n",
       "    </tr>\n",
       "    <tr>\n",
       "      <th>Maíz</th>\n",
       "      <td>NaN</td>\n",
       "      <td>88</td>\n",
       "      <td>52</td>\n",
       "      <td>40</td>\n",
       "    </tr>\n",
       "    <tr>\n",
       "      <th>Centeno</th>\n",
       "      <td>70.0</td>\n",
       "      <td>40</td>\n",
       "      <td>33</td>\n",
       "      <td>30</td>\n",
       "    </tr>\n",
       "  </tbody>\n",
       "</table>\n",
       "</div>"
      ],
      "text/plain": [
       "            10  17.5  25  32\n",
       "Especie                     \n",
       "Trigo    110.0    70  52  47\n",
       "Maíz       NaN    88  52  40\n",
       "Centeno   70.0    40  33  30"
      ]
     },
     "execution_count": 23,
     "metadata": {},
     "output_type": "execute_result"
    }
   ],
   "source": [
    "#Importo librerias\n",
    "import pandas as pd\n",
    "import numpy as np\n",
    "import matplotlib.pyplot as plt\n",
    "import os\n",
    "\n",
    "#Importo la base de datos\n",
    "data = pd.read_csv(\n",
    "        'C:\\\\Users\\\\nahue\\\\Desktop\\\\Facultad\\\\Agro\\\\TP 8\\\\Van dobben.txt',\n",
    "        delimiter = ' ',\n",
    "        decimal = '.',\n",
    "        engine = 'python',\n",
    "        index_col=0,\n",
    "        )\n",
    "data.head()"
   ]
  },
  {
   "cell_type": "code",
   "execution_count": 24,
   "metadata": {},
   "outputs": [
    {
     "data": {
      "text/html": [
       "<div>\n",
       "<style scoped>\n",
       "    .dataframe tbody tr th:only-of-type {\n",
       "        vertical-align: middle;\n",
       "    }\n",
       "\n",
       "    .dataframe tbody tr th {\n",
       "        vertical-align: top;\n",
       "    }\n",
       "\n",
       "    .dataframe thead th {\n",
       "        text-align: right;\n",
       "    }\n",
       "</style>\n",
       "<table border=\"1\" class=\"dataframe\">\n",
       "  <thead>\n",
       "    <tr style=\"text-align: right;\">\n",
       "      <th>Especie</th>\n",
       "      <th>Trigo</th>\n",
       "      <th>Maíz</th>\n",
       "      <th>Centeno</th>\n",
       "    </tr>\n",
       "  </thead>\n",
       "  <tbody>\n",
       "    <tr>\n",
       "      <th>10</th>\n",
       "      <td>110.0</td>\n",
       "      <td>NaN</td>\n",
       "      <td>70.0</td>\n",
       "    </tr>\n",
       "    <tr>\n",
       "      <th>17.5</th>\n",
       "      <td>70.0</td>\n",
       "      <td>88.0</td>\n",
       "      <td>40.0</td>\n",
       "    </tr>\n",
       "    <tr>\n",
       "      <th>25</th>\n",
       "      <td>52.0</td>\n",
       "      <td>52.0</td>\n",
       "      <td>33.0</td>\n",
       "    </tr>\n",
       "    <tr>\n",
       "      <th>32</th>\n",
       "      <td>47.0</td>\n",
       "      <td>40.0</td>\n",
       "      <td>30.0</td>\n",
       "    </tr>\n",
       "  </tbody>\n",
       "</table>\n",
       "</div>"
      ],
      "text/plain": [
       "Especie  Trigo  Maíz  Centeno\n",
       "10       110.0   NaN     70.0\n",
       "17.5      70.0  88.0     40.0\n",
       "25        52.0  52.0     33.0\n",
       "32        47.0  40.0     30.0"
      ]
     },
     "execution_count": 24,
     "metadata": {},
     "output_type": "execute_result"
    }
   ],
   "source": [
    "data = data.T\n",
    "data.head()"
   ]
  },
  {
   "cell_type": "code",
   "execution_count": 28,
   "metadata": {},
   "outputs": [
    {
     "data": {
      "text/plain": [
       "Index(['Trigo', 'Maíz', 'Centeno'], dtype='object', name='Especie')"
      ]
     },
     "execution_count": 28,
     "metadata": {},
     "output_type": "execute_result"
    }
   ],
   "source": [
    "data.columns"
   ]
  },
  {
   "cell_type": "code",
   "execution_count": 38,
   "metadata": {},
   "outputs": [
    {
     "data": {
      "text/plain": [
       "<matplotlib.legend.Legend at 0x17c7850>"
      ]
     },
     "execution_count": 38,
     "metadata": {},
     "output_type": "execute_result"
    },
    {
     "data": {
      "image/png": "[encoded data removed]",
      "text/plain": [
       "<Figure size 1296x648 with 1 Axes>"
      ]
     },
     "metadata": {
      "needs_background": "light"
     },
     "output_type": "display_data"
    }
   ],
   "source": [
    "plt.figure(figsize=(18,9))\n",
    "for i in data.columns:\n",
    "    plt.plot(data[i], label = i)\n",
    "plt.title('Ejercicio 1')\n",
    "plt.xlabel(\"T°C\")\n",
    "plt.ylabel(\"Días\")\n",
    "plt.legend()"
   ]
  },
  {
   "cell_type": "code",
   "execution_count": 41,
   "metadata": {},
   "outputs": [
    {
     "data": {
      "text/plain": [
       "<matplotlib.legend.Legend at 0x53e8850>"
      ]
     },
     "execution_count": 41,
     "metadata": {},
     "output_type": "execute_result"
    },
    {
     "data": {
      "image/png": "[encoded data removed]",
      "text/plain": [
       "<Figure size 1296x648 with 1 Axes>"
      ]
     },
     "metadata": {
      "needs_background": "light"
     },
     "output_type": "display_data"
    }
   ],
   "source": [
    "plt.figure(figsize=(18,9))\n",
    "for i in data.columns:\n",
    "    data[i] = 1/data[i]\n",
    "    plt.plot(data[i], label = i)\n",
    "plt.title('Ejercicio 1')\n",
    "plt.xlabel(\"T°C\")\n",
    "plt.ylabel(\"Tasa de desarrollo\")\n",
    "plt.legend()"
   ]
  },
  {
   "cell_type": "code",
   "execution_count": 42,
   "metadata": {},
   "outputs": [],
   "source": [
    "# A medida que baja la T, la tasa de crecimiento es menor para los 3 cultivos.\n",
    "# Para una T° = 10°C, el maíz no crece, mientras que los otros cultivos aún crecen un poco.\n",
    "# Sería conveniente sembrar los 3 cultivos en un lugar con T cercana a los 32°C"
   ]
  },
  {
   "cell_type": "code",
   "execution_count": 43,
   "metadata": {},
   "outputs": [],
   "source": [
    "# Debería medirse la T° dentro del ser vivo, pero es más fácil y barato utilizar la T° del aire."
   ]
  },
  {
   "cell_type": "code",
   "execution_count": 64,
   "metadata": {},
   "outputs": [
    {
     "data": {
      "text/html": [
       "<div>\n",
       "<style scoped>\n",
       "    .dataframe tbody tr th:only-of-type {\n",
       "        vertical-align: middle;\n",
       "    }\n",
       "\n",
       "    .dataframe tbody tr th {\n",
       "        vertical-align: top;\n",
       "    }\n",
       "\n",
       "    .dataframe thead th {\n",
       "        text-align: right;\n",
       "    }\n",
       "</style>\n",
       "<table border=\"1\" class=\"dataframe\">\n",
       "  <thead>\n",
       "    <tr style=\"text-align: right;\">\n",
       "      <th></th>\n",
       "      <th>Día</th>\n",
       "      <th>Tmáx</th>\n",
       "      <th>Tmín</th>\n",
       "    </tr>\n",
       "  </thead>\n",
       "  <tbody>\n",
       "    <tr>\n",
       "      <th>0</th>\n",
       "      <td>150</td>\n",
       "      <td>28.9</td>\n",
       "      <td>13.3</td>\n",
       "    </tr>\n",
       "    <tr>\n",
       "      <th>1</th>\n",
       "      <td>151</td>\n",
       "      <td>29.9</td>\n",
       "      <td>13.3</td>\n",
       "    </tr>\n",
       "    <tr>\n",
       "      <th>2</th>\n",
       "      <td>152</td>\n",
       "      <td>26.8</td>\n",
       "      <td>8.0</td>\n",
       "    </tr>\n",
       "    <tr>\n",
       "      <th>3</th>\n",
       "      <td>153</td>\n",
       "      <td>27.1</td>\n",
       "      <td>15.0</td>\n",
       "    </tr>\n",
       "    <tr>\n",
       "      <th>4</th>\n",
       "      <td>154</td>\n",
       "      <td>27.2</td>\n",
       "      <td>20.0</td>\n",
       "    </tr>\n",
       "  </tbody>\n",
       "</table>\n",
       "</div>"
      ],
      "text/plain": [
       "   Día  Tmáx  Tmín\n",
       "0  150  28.9  13.3\n",
       "1  151  29.9  13.3\n",
       "2  152  26.8   8.0\n",
       "3  153  27.1  15.0\n",
       "4  154  27.2  20.0"
      ]
     },
     "execution_count": 64,
     "metadata": {},
     "output_type": "execute_result"
    }
   ],
   "source": [
    "maiz = pd.read_csv(\n",
    "        'C:\\\\Users\\\\nahue\\\\Desktop\\\\Facultad\\\\Agro\\\\TP 8\\\\maiz.txt',\n",
    "        delimiter = ' ',\n",
    "        decimal = '.',\n",
    "        engine = 'python',\n",
    "        )\n",
    "maiz.head()"
   ]
  },
  {
   "cell_type": "code",
   "execution_count": 89,
   "metadata": {},
   "outputs": [
    {
     "name": "stdout",
     "output_type": "stream",
     "text": [
      "168\n"
     ]
    }
   ],
   "source": [
    "max = maiz['Tmáx'].count()\n",
    "triang_s = list(range(max))\n",
    "dia_s = maiz['Día'][0]\n",
    "for i in triang_s:\n",
    "    if maiz['Tmín'][i] > 10:\n",
    "        triang_s[i] = 6*(maiz['Tmáx'][i]+maiz['Tmín'][i]-2*10)/12\n",
    "    else:\n",
    "        triang_s[i] = 6*((maiz['Tmáx'][i]-10)**2/(maiz['Tmáx'][i]-maiz['Tmín'][i]))/12\n",
    "    if i > 0:\n",
    "        triang_s[i] = triang_s[i-1] + triang_s[i]\n",
    "    if triang_s[i] < 220:\n",
    "        dia_s = dia_s + 1\n",
    "print(dia_s)"
   ]
  },
  {
   "cell_type": "code",
   "execution_count": 90,
   "metadata": {},
   "outputs": [
    {
     "name": "stdout",
     "output_type": "stream",
     "text": [
      "168\n"
     ]
    }
   ],
   "source": [
    "triang_d = list(range(max))\n",
    "dia_d = maiz['Día'][0]\n",
    "for i in triang_d:\n",
    "    if i < max - 1:\n",
    "        if maiz['Tmín'][i] > 10:\n",
    "            triang_d[i] = 6*(maiz['Tmáx'][i]+maiz['Tmín'][i]-2*10)/24 + 6*(maiz['Tmáx'][i]+maiz['Tmín'][i+1]-2*10)/24\n",
    "        else:\n",
    "            triang_d[i] = 6*((maiz['Tmáx'][i]-10)**2/(maiz['Tmáx'][i]-maiz['Tmín'][i]))/24 + 6*((maiz['Tmáx'][i]-10)**2/(maiz['Tmáx'][i]-maiz['Tmín'][i+1]))/24\n",
    "    else:\n",
    "        if maiz['Tmín'][i] > 10:\n",
    "            triang_d[i] = 6*(maiz['Tmáx'][i]+maiz['Tmín'][i]-2*10)/24\n",
    "        else:\n",
    "            triang_d[i] = 6*((maiz['Tmáx'][i]-10)**2/(maiz['Tmáx'][i]-maiz['Tmín'][i]))/24\n",
    "    if i > 0:\n",
    "        triang_d[i] = triang_d[i-1] + triang_d[i]\n",
    "    if triang_s[i] < 220:\n",
    "        dia_d = dia_d + 1\n",
    "print(dia_d)"
   ]
  },
  {
   "cell_type": "code",
   "execution_count": 88,
   "metadata": {},
   "outputs": [
    {
     "ename": "TypeError",
     "evalue": "'<' not supported between instances of 'list' and 'int'",
     "output_type": "error",
     "traceback": [
      "\u001b[1;31m---------------------------------------------------------------------------\u001b[0m",
      "\u001b[1;31mTypeError\u001b[0m                                 Traceback (most recent call last)",
      "\u001b[1;32m<ipython-input-88-08d3984a2fdb>\u001b[0m in \u001b[0;36m<module>\u001b[1;34m\u001b[0m\n\u001b[0;32m      5\u001b[0m \u001b[0mplt\u001b[0m\u001b[1;33m.\u001b[0m\u001b[0mxlabel\u001b[0m\u001b[1;33m(\u001b[0m\u001b[1;34m\"Días\"\u001b[0m\u001b[1;33m)\u001b[0m\u001b[1;33m\u001b[0m\u001b[1;33m\u001b[0m\u001b[0m\n\u001b[0;32m      6\u001b[0m \u001b[0mplt\u001b[0m\u001b[1;33m.\u001b[0m\u001b[0mylabel\u001b[0m\u001b[1;33m(\u001b[0m\u001b[1;34m\"Grados día acumulados\"\u001b[0m\u001b[1;33m)\u001b[0m\u001b[1;33m\u001b[0m\u001b[1;33m\u001b[0m\u001b[0m\n\u001b[1;32m----> 7\u001b[1;33m \u001b[0mhola\u001b[0m \u001b[1;33m=\u001b[0m \u001b[0mtriang_s\u001b[0m\u001b[1;33m[\u001b[0m\u001b[1;33m(\u001b[0m\u001b[0mtriang_s\u001b[0m\u001b[1;33m[\u001b[0m\u001b[1;33m:\u001b[0m\u001b[1;33m]\u001b[0m\u001b[1;33m<\u001b[0m\u001b[1;36m220\u001b[0m\u001b[1;33m)\u001b[0m\u001b[1;33m]\u001b[0m\u001b[1;33m\u001b[0m\u001b[1;33m\u001b[0m\u001b[0m\n\u001b[0m",
      "\u001b[1;31mTypeError\u001b[0m: '<' not supported between instances of 'list' and 'int'"
     ]
    },
    {
     "data": {
      "image/png": "[encoded data removed]",
      "text/plain": [
       "<Figure size 1296x648 with 1 Axes>"
      ]
     },
     "metadata": {
      "needs_background": "light"
     },
     "output_type": "display_data"
    }
   ],
   "source": [
    "plt.figure(figsize=(18,9))\n",
    "for i in [triang_s, triang_d]:\n",
    "    plt.plot(maiz['Día'], i)\n",
    "plt.title('Ejercicio 3')\n",
    "plt.xlabel(\"Días\")\n",
    "plt.ylabel(\"Grados día acumulados\")"
   ]
  },
  {
   "cell_type": "code",
   "execution_count": 101,
   "metadata": {},
   "outputs": [
    {
     "data": {
      "text/html": [
       "<div>\n",
       "<style scoped>\n",
       "    .dataframe tbody tr th:only-of-type {\n",
       "        vertical-align: middle;\n",
       "    }\n",
       "\n",
       "    .dataframe tbody tr th {\n",
       "        vertical-align: top;\n",
       "    }\n",
       "\n",
       "    .dataframe thead th {\n",
       "        text-align: right;\n",
       "    }\n",
       "</style>\n",
       "<table border=\"1\" class=\"dataframe\">\n",
       "  <thead>\n",
       "    <tr style=\"text-align: right;\">\n",
       "      <th></th>\n",
       "      <th>Caso</th>\n",
       "      <th>Día_min_n</th>\n",
       "      <th>Día_max_n</th>\n",
       "      <th>Día_min_n+1</th>\n",
       "    </tr>\n",
       "  </thead>\n",
       "  <tbody>\n",
       "    <tr>\n",
       "      <th>0</th>\n",
       "      <td>1</td>\n",
       "      <td>96</td>\n",
       "      <td>110</td>\n",
       "      <td>91</td>\n",
       "    </tr>\n",
       "    <tr>\n",
       "      <th>1</th>\n",
       "      <td>2</td>\n",
       "      <td>91</td>\n",
       "      <td>105</td>\n",
       "      <td>96</td>\n",
       "    </tr>\n",
       "    <tr>\n",
       "      <th>2</th>\n",
       "      <td>3</td>\n",
       "      <td>45</td>\n",
       "      <td>54</td>\n",
       "      <td>38</td>\n",
       "    </tr>\n",
       "    <tr>\n",
       "      <th>3</th>\n",
       "      <td>4</td>\n",
       "      <td>60</td>\n",
       "      <td>80</td>\n",
       "      <td>75</td>\n",
       "    </tr>\n",
       "    <tr>\n",
       "      <th>4</th>\n",
       "      <td>5</td>\n",
       "      <td>60</td>\n",
       "      <td>100</td>\n",
       "      <td>75</td>\n",
       "    </tr>\n",
       "    <tr>\n",
       "      <th>5</th>\n",
       "      <td>6</td>\n",
       "      <td>50</td>\n",
       "      <td>101</td>\n",
       "      <td>48</td>\n",
       "    </tr>\n",
       "  </tbody>\n",
       "</table>\n",
       "</div>"
      ],
      "text/plain": [
       "   Caso  Día_min_n  Día_max_n  Día_min_n+1\n",
       "0     1         96        110           91\n",
       "1     2         91        105           96\n",
       "2     3         45         54           38\n",
       "3     4         60         80           75\n",
       "4     5         60        100           75\n",
       "5     6         50        101           48"
      ]
     },
     "execution_count": 101,
     "metadata": {},
     "output_type": "execute_result"
    }
   ],
   "source": [
    "ejercicio = pd.read_csv(\n",
    "        'C:\\\\Users\\\\nahue\\\\Desktop\\\\Facultad\\\\Agro\\\\TP 8\\\\ejercicio.txt',\n",
    "        delimiter = ' ',\n",
    "        decimal = '.',\n",
    "        engine = 'python',\n",
    "        )\n",
    "ejercicio.head(6)"
   ]
  },
  {
   "cell_type": "code",
   "execution_count": 92,
   "metadata": {},
   "outputs": [],
   "source": [
    "# En los primeros 2 da 35 por cualquier método\n",
    "# El tercero es cero"
   ]
  },
  {
   "cell_type": "code",
   "execution_count": 98,
   "metadata": {},
   "outputs": [
    {
     "name": "stdout",
     "output_type": "stream",
     "text": [
      "15.0\n",
      "18.75\n",
      "15.0\n",
      "18.75\n"
     ]
    }
   ],
   "source": [
    "# Las diferencias máximas se dan en el caso 4 porque las T están en el rango\n",
    "promedio = 20\n",
    "triang_s = 6*(ejercicio['Día_max_n'][3]+ejercicio['Día_min_n'][3]-2*55)/12\n",
    "triang_d = 6*(ejercicio['Día_max_n'][3]+ejercicio['Día_min_n'][3]-2*55)/24 + 6*(ejercicio['Día_max_n'][3]+ejercicio['Día_min_n+1'][3]-2*55)/24\n",
    "seno_s = (ejercicio['Día_max_n'][3]+ejercicio['Día_min_n'][3]) /2 - 55\n",
    "seno_d = ((ejercicio['Día_max_n'][3]+ejercicio['Día_min_n'][3]) /2 - 55)/2 + ((ejercicio['Día_max_n'][3]+ejercicio['Día_min_n+1'][3]) /2 - 55)/2\n",
    "print(triang_s)\n",
    "print(triang_d)\n",
    "print(seno_s)\n",
    "print(seno_d)\n",
    "# promedio = 20\n",
    "# En los otros casos las diferencias son menores"
   ]
  },
  {
   "cell_type": "code",
   "execution_count": 102,
   "metadata": {},
   "outputs": [
    {
     "name": "stdout",
     "output_type": "stream",
     "text": [
      "12.777777777777779 32.22222222222222\n"
     ]
    },
    {
     "data": {
      "text/html": [
       "<div>\n",
       "<style scoped>\n",
       "    .dataframe tbody tr th:only-of-type {\n",
       "        vertical-align: middle;\n",
       "    }\n",
       "\n",
       "    .dataframe tbody tr th {\n",
       "        vertical-align: top;\n",
       "    }\n",
       "\n",
       "    .dataframe thead th {\n",
       "        text-align: right;\n",
       "    }\n",
       "</style>\n",
       "<table border=\"1\" class=\"dataframe\">\n",
       "  <thead>\n",
       "    <tr style=\"text-align: right;\">\n",
       "      <th></th>\n",
       "      <th>Caso</th>\n",
       "      <th>Día_min_n</th>\n",
       "      <th>Día_max_n</th>\n",
       "      <th>Día_min_n+1</th>\n",
       "    </tr>\n",
       "  </thead>\n",
       "  <tbody>\n",
       "    <tr>\n",
       "      <th>0</th>\n",
       "      <td>1</td>\n",
       "      <td>35.555556</td>\n",
       "      <td>43.333333</td>\n",
       "      <td>32.777778</td>\n",
       "    </tr>\n",
       "    <tr>\n",
       "      <th>1</th>\n",
       "      <td>2</td>\n",
       "      <td>32.777778</td>\n",
       "      <td>40.555556</td>\n",
       "      <td>35.555556</td>\n",
       "    </tr>\n",
       "    <tr>\n",
       "      <th>2</th>\n",
       "      <td>3</td>\n",
       "      <td>7.222222</td>\n",
       "      <td>12.222222</td>\n",
       "      <td>3.333333</td>\n",
       "    </tr>\n",
       "    <tr>\n",
       "      <th>3</th>\n",
       "      <td>4</td>\n",
       "      <td>15.555556</td>\n",
       "      <td>26.666667</td>\n",
       "      <td>23.888889</td>\n",
       "    </tr>\n",
       "    <tr>\n",
       "      <th>4</th>\n",
       "      <td>5</td>\n",
       "      <td>15.555556</td>\n",
       "      <td>37.777778</td>\n",
       "      <td>23.888889</td>\n",
       "    </tr>\n",
       "    <tr>\n",
       "      <th>5</th>\n",
       "      <td>6</td>\n",
       "      <td>10.000000</td>\n",
       "      <td>38.333333</td>\n",
       "      <td>8.888889</td>\n",
       "    </tr>\n",
       "  </tbody>\n",
       "</table>\n",
       "</div>"
      ],
      "text/plain": [
       "   Caso  Día_min_n  Día_max_n  Día_min_n+1\n",
       "0     1  35.555556  43.333333    32.777778\n",
       "1     2  32.777778  40.555556    35.555556\n",
       "2     3   7.222222  12.222222     3.333333\n",
       "3     4  15.555556  26.666667    23.888889\n",
       "4     5  15.555556  37.777778    23.888889\n",
       "5     6  10.000000  38.333333     8.888889"
      ]
     },
     "execution_count": 102,
     "metadata": {},
     "output_type": "execute_result"
    }
   ],
   "source": [
    "ejercicio['Día_min_n'] = (ejercicio['Día_min_n'] - 32) * 5/9\n",
    "ejercicio['Día_max_n'] = (ejercicio['Día_max_n'] - 32) * 5/9\n",
    "ejercicio['Día_min_n+1'] = (ejercicio['Día_min_n+1'] - 32) * 5/9\n",
    "min = (55 - 32) * 5/9\n",
    "max = (90 - 32) * 5/9\n",
    "print(min,max)\n",
    "ejercicio.head(6)"
   ]
  },
  {
   "cell_type": "code",
   "execution_count": 103,
   "metadata": {},
   "outputs": [],
   "source": [
    "# Otra vez:\n",
    "# En los primeros 2 da 35 por cualquier método\n",
    "# El tercero es cero\n",
    "# Las diferencias máximas se dan en el caso 4 porque las T están en el rango\n",
    "# En los otros casos las diferencias son menores"
   ]
  },
  {
   "cell_type": "code",
   "execution_count": 105,
   "metadata": {},
   "outputs": [
    {
     "name": "stdout",
     "output_type": "stream",
     "text": [
      "8.331111111111111\n",
      "10.414444444444445\n",
      "8.331111111111111\n",
      "10.414444444444445\n"
     ]
    }
   ],
   "source": [
    "promedio = 11.1\n",
    "triang_s = 6*(ejercicio['Día_max_n'][3]+ejercicio['Día_min_n'][3]-2*12.78)/12\n",
    "triang_d = 6*(ejercicio['Día_max_n'][3]+ejercicio['Día_min_n'][3]-2*12.78)/24 + 6*(ejercicio['Día_max_n'][3]+ejercicio['Día_min_n+1'][3]-2*12.78)/24\n",
    "seno_s = (ejercicio['Día_max_n'][3]+ejercicio['Día_min_n'][3]) /2 - 12.78\n",
    "seno_d = ((ejercicio['Día_max_n'][3]+ejercicio['Día_min_n'][3]) /2 - 12.78)/2 + ((ejercicio['Día_max_n'][3]+ejercicio['Día_min_n+1'][3]) /2 - 12.78)/2\n",
    "print(triang_s)\n",
    "print(triang_d)\n",
    "print(seno_s)\n",
    "print(seno_d)"
   ]
  },
  {
   "cell_type": "code",
   "execution_count": null,
   "metadata": {},
   "outputs": [],
   "source": [
    "# Son los mismos grados F, pero *5/9"
   ]
  }
 ],
 "metadata": {
  "kernelspec": {
   "display_name": "Python 3",
   "language": "python",
   "name": "python3"
  },
  "language_info": {
   "codemirror_mode": {
    "name": "ipython",
    "version": 3
   },
   "file_extension": ".py",
   "mimetype": "text/x-python",
   "name": "python",
   "nbconvert_exporter": "python",
   "pygments_lexer": "ipython3",
   "version": "3.7.2"
  }
 },
 "nbformat": 4,
 "nbformat_minor": 2
}
